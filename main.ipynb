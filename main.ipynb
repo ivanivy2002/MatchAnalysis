{
 "cells": [
  {
   "cell_type": "code",
   "execution_count": 1,
   "metadata": {},
   "outputs": [],
   "source": [
    "from utils import read_video, save_video, print_structure,get_center, measure_distance\n",
    "from trackers import Tracker\n",
    "import cv2\n",
    "from team_assigner import TeamAssigner\n",
    "from player_ball_assigner import PlayerBallAssigner"
   ]
  },
  {
   "cell_type": "code",
   "execution_count": 2,
   "metadata": {},
   "outputs": [],
   "source": [
    "# Read Video\n",
    "input_dir = 'input_video'\n",
    "video_name = '08fd33_4.mp4'\n",
    "# video_name = '0bfacc_0.mp4'\n",
    "base_name = video_name.split('.')[0]\n",
    "output_dir = 'output_video'"
   ]
  },
  {
   "cell_type": "code",
   "execution_count": 3,
   "metadata": {},
   "outputs": [],
   "source": [
    "video_frames = read_video(f'{input_dir}/{video_name}')"
   ]
  },
  {
   "cell_type": "markdown",
   "metadata": {},
   "source": [
    "# 初始化Tracker"
   ]
  },
  {
   "cell_type": "code",
   "execution_count": 4,
   "metadata": {},
   "outputs": [],
   "source": [
    "tracker = Tracker('models/train3_5xu/best.pt')\n",
    "# tracker = Tracker('models/train3_5xu/best.pt')\n",
    "tracks = tracker.get_object_tracks(video_frames,\n",
    "                                    read_from_stub=True,\n",
    "                                    stub_path=f'stub/{base_name}.pkl')"
   ]
  },
  {
   "cell_type": "markdown",
   "metadata": {},
   "source": [
    "# 对球插值"
   ]
  },
  {
   "cell_type": "code",
   "execution_count": 5,
   "metadata": {},
   "outputs": [],
   "source": [
    "tracks['ball'] = tracker.interpolate_ball(tracks['ball'])"
   ]
  },
  {
   "cell_type": "code",
   "execution_count": 6,
   "metadata": {},
   "outputs": [
    {
     "ename": "KeyboardInterrupt",
     "evalue": "",
     "output_type": "error",
     "traceback": [
      "\u001b[1;31m---------------------------------------------------------------------------\u001b[0m",
      "\u001b[1;31mKeyboardInterrupt\u001b[0m                         Traceback (most recent call last)",
      "Cell \u001b[1;32mIn[6], line 2\u001b[0m\n\u001b[0;32m      1\u001b[0m \u001b[38;5;28;01mwhile\u001b[39;00m \u001b[38;5;28;01mTrue\u001b[39;00m:\n\u001b[1;32m----> 2\u001b[0m     tracks[\u001b[38;5;124m'\u001b[39m\u001b[38;5;124mball\u001b[39m\u001b[38;5;124m'\u001b[39m] \u001b[38;5;241m=\u001b[39m \u001b[43mtracker\u001b[49m\u001b[38;5;241;43m.\u001b[39;49m\u001b[43minterpolate_ball\u001b[49m\u001b[43m(\u001b[49m\u001b[43mtracks\u001b[49m\u001b[43m[\u001b[49m\u001b[38;5;124;43m'\u001b[39;49m\u001b[38;5;124;43mball\u001b[39;49m\u001b[38;5;124;43m'\u001b[39;49m\u001b[43m]\u001b[49m\u001b[43m)\u001b[49m\n\u001b[0;32m      3\u001b[0m     pos_list \u001b[38;5;241m=\u001b[39m []\n\u001b[0;32m      4\u001b[0m     \u001b[38;5;28;01mfor\u001b[39;00m frame \u001b[38;5;129;01min\u001b[39;00m tracks[\u001b[38;5;124m'\u001b[39m\u001b[38;5;124mball\u001b[39m\u001b[38;5;124m'\u001b[39m]:\n",
      "File \u001b[1;32me:\\Current\\00_Project\\DeepLearning\\MatchAnalysis\\trackers\\tracker.py\u001b[0m, in \u001b[0;36mTracker.interpolate_ball\u001b[1;34m(self, ball_positions)\u001b[0m\n\u001b[0;32m      0\u001b[0m <Error retrieving source code with stack_data see ipython/ipython#13598>\n",
      "\u001b[1;31mKeyboardInterrupt\u001b[0m: "
     ]
    }
   ],
   "source": [
    "while True:\n",
    "    tracks['ball'] = tracker.interpolate_ball(tracks['ball'])\n",
    "    pos_list = []\n",
    "    for frame in tracks['ball']:\n",
    "        bbox = frame[1][\"bbox\"]\n",
    "        pos = get_center(bbox)\n",
    "        pos_list.append((pos,bbox))\n",
    "    dist_list = []\n",
    "    for i in range(1, len(pos_list)):\n",
    "        dist = measure_distance(pos_list[i][0], pos_list[i - 1][0])\n",
    "        # print(f'{dist:.2f}')\n",
    "        dist_list.append(dist)\n",
    "        if dist > 73:\n",
    "            print(i, dist)\n",
    "            print(pos_list[i-3][0], pos_list[i-2][0], pos_list[i-1][0], pos_list[i][0], pos_list[i+1][0], pos_list[i+2][0])\n",
    "    max_dist = max(dist_list)\n",
    "    print(max_dist)\n",
    "    if max_dist < 73:\n",
    "        break\n",
    "# while max(dist_list) > 181:\n",
    "#     for i in range(len(dist_list) - 2):\n",
    "#         if dist_list[i] > 73:\n",
    "#             pos_list[i + 1] = pos_list[i]\n",
    "#             dist_list[i] = measure_distance(pos_list[i][0], pos_list[i + 1][0])"
   ]
  },
  {
   "cell_type": "code",
   "execution_count": null,
   "metadata": {},
   "outputs": [
    {
     "ename": "TypeError",
     "evalue": "unsupported operand type(s) for -: 'tuple' and 'tuple'",
     "output_type": "error",
     "traceback": [
      "\u001b[1;31m---------------------------------------------------------------------------\u001b[0m",
      "\u001b[1;31mTypeError\u001b[0m                                 Traceback (most recent call last)",
      "Cell \u001b[1;32mIn[55], line 3\u001b[0m\n\u001b[0;32m      1\u001b[0m \u001b[38;5;28;01mfor\u001b[39;00m i \u001b[38;5;129;01min\u001b[39;00m \u001b[38;5;28mrange\u001b[39m(\u001b[38;5;241m1\u001b[39m, \u001b[38;5;28mlen\u001b[39m(pos_list)):\n\u001b[0;32m      2\u001b[0m     second \u001b[38;5;241m=\u001b[39m i\u001b[38;5;241m/\u001b[39m\u001b[38;5;241m24\u001b[39m\n\u001b[1;32m----> 3\u001b[0m     dist \u001b[38;5;241m=\u001b[39m \u001b[43mmeasure_distance\u001b[49m\u001b[43m(\u001b[49m\u001b[43mpos_list\u001b[49m\u001b[43m[\u001b[49m\u001b[43mi\u001b[49m\u001b[43m]\u001b[49m\u001b[43m,\u001b[49m\u001b[43m \u001b[49m\u001b[43mpos_list\u001b[49m\u001b[43m[\u001b[49m\u001b[43mi\u001b[49m\u001b[38;5;241;43m-\u001b[39;49m\u001b[38;5;241;43m1\u001b[39;49m\u001b[43m]\u001b[49m\u001b[43m)\u001b[49m\n\u001b[0;32m      4\u001b[0m     \u001b[38;5;66;03m# print(f'{i}:{second:.2f} {dist:.2f}')\u001b[39;00m\n\u001b[0;32m      5\u001b[0m     \u001b[38;5;66;03m# dist = measure_distance(pos_list[i], pos_list[i-1])\u001b[39;00m\n\u001b[0;32m      6\u001b[0m     \u001b[38;5;28;01mif\u001b[39;00m dist \u001b[38;5;241m>\u001b[39m \u001b[38;5;241m181\u001b[39m:\n",
      "File \u001b[1;32me:\\Current\\00_Project\\DeepLearning\\MatchAnalysis\\utils\\bbox_utils.py:36\u001b[0m, in \u001b[0;36mmeasure_distance\u001b[1;34m(p1, p2)\u001b[0m\n\u001b[0;32m     34\u001b[0m x1, y1 \u001b[38;5;241m=\u001b[39m p1\n\u001b[0;32m     35\u001b[0m x2, y2 \u001b[38;5;241m=\u001b[39m p2\n\u001b[1;32m---> 36\u001b[0m \u001b[38;5;28;01mreturn\u001b[39;00m ((\u001b[43mx1\u001b[49m\u001b[43m \u001b[49m\u001b[38;5;241;43m-\u001b[39;49m\u001b[43m \u001b[49m\u001b[43mx2\u001b[49m) \u001b[38;5;241m*\u001b[39m\u001b[38;5;241m*\u001b[39m \u001b[38;5;241m2\u001b[39m \u001b[38;5;241m+\u001b[39m (y1 \u001b[38;5;241m-\u001b[39m y2) \u001b[38;5;241m*\u001b[39m\u001b[38;5;241m*\u001b[39m \u001b[38;5;241m2\u001b[39m) \u001b[38;5;241m*\u001b[39m\u001b[38;5;241m*\u001b[39m \u001b[38;5;241m0.5\u001b[39m\n",
      "\u001b[1;31mTypeError\u001b[0m: unsupported operand type(s) for -: 'tuple' and 'tuple'"
     ]
    }
   ],
   "source": [
    "\n",
    "# for i in range(1, len(pos_list)):\n",
    "#     second = i/24\n",
    "#     dist = measure_distance(pos_list[i], pos_list[i-1])\n",
    "#     # print(f'{i}:{second:.2f} {dist:.2f}')\n",
    "#     # dist = measure_distance(pos_list[i], pos_list[i-1])\n",
    "#     if dist > 181:\n",
    "#         print(f'{i}:{second:.2f} {dist:.2f}')\n",
    "#         print(pos_list[i-5:i+5])"
   ]
  },
  {
   "cell_type": "code",
   "execution_count": null,
   "metadata": {},
   "outputs": [],
   "source": [
    "# # 保存每个队员的截图, 只保存第一帧的，只一次\n",
    "# for id, player in tracks[\"players\"][0].items():\n",
    "#     bbox = player[\"bbox\"]\n",
    "#     frame = video_frames[0]\n",
    "#     cropped = frame[int(bbox[1]) : int(bbox[3]), int(bbox[0]) : int(bbox[2])]\n",
    "#     cv2.imwrite(f\"{output_dir}/player_{id}.jpg\", cropped)"
   ]
  },
  {
   "cell_type": "markdown",
   "metadata": {},
   "source": [
    "# 分队"
   ]
  },
  {
   "cell_type": "code",
   "execution_count": null,
   "metadata": {},
   "outputs": [],
   "source": [
    "team_assigner = TeamAssigner()\n",
    "team_assigner.assign_team(video_frames[0], \n",
    "                          tracks['players'][0])\n",
    "for frame_num, player_track in enumerate(tracks['players']):\n",
    "    for player_id, track in player_track.items():\n",
    "        team = team_assigner.get_player_team(video_frames[frame_num], \n",
    "                                             track['bbox'],\n",
    "                                                player_id)\n",
    "        tracks['players'][frame_num][player_id]['team'] = team\n",
    "        tracks['players'][frame_num][player_id]['team_color'] = team_assigner.team_colors[team]\n",
    "\n",
    "tracker.team_colors = team_assigner.team_colors"
   ]
  },
  {
   "cell_type": "markdown",
   "metadata": {},
   "source": [
    "# 分配控球"
   ]
  },
  {
   "cell_type": "code",
   "execution_count": null,
   "metadata": {},
   "outputs": [],
   "source": [
    "player_ball_assigner = PlayerBallAssigner()\n",
    "team_control =[]\n",
    "for frame_num, player_track in enumerate(tracks['players']):\n",
    "    ball = tracks['ball'][frame_num][1]['bbox']\n",
    "    assigned_player = player_ball_assigner.assign_ball_2_player(player_track, ball)\n",
    "    if assigned_player:\n",
    "        tracks['players'][frame_num][assigned_player]['has_ball'] = True\n",
    "        team_control.append(tracks['players'][frame_num][assigned_player]['team'])\n",
    "    else:    \n",
    "        team_control.append(team_control[-1])\n",
    "        "
   ]
  },
  {
   "cell_type": "code",
   "execution_count": null,
   "metadata": {},
   "outputs": [],
   "source": [
    "# print_structure(tracks)"
   ]
  },
  {
   "cell_type": "code",
   "execution_count": null,
   "metadata": {},
   "outputs": [],
   "source": [
    "# 画出输出\n",
    "## 画出对象轨迹\n",
    "output_video_frames = tracker.draw_annotation(video_frames, tracks, team_control)"
   ]
  },
  {
   "cell_type": "code",
   "execution_count": null,
   "metadata": {},
   "outputs": [
    {
     "name": "stderr",
     "output_type": "stream",
     "text": [
      "Saving Video: 100%|██████████| 750/750 [00:10<00:00, 71.29it/s]"
     ]
    },
    {
     "name": "stdout",
     "output_type": "stream",
     "text": [
      "Video saved at output_video/08fd33_4.mp4.avi\n"
     ]
    },
    {
     "name": "stderr",
     "output_type": "stream",
     "text": [
      "\n"
     ]
    }
   ],
   "source": [
    "# Save Video\n",
    "save_video(output_video_frames, f'{output_dir}/{video_name}.avi')"
   ]
  }
 ],
 "metadata": {
  "kernelspec": {
   "display_name": "ml",
   "language": "python",
   "name": "python3"
  },
  "language_info": {
   "codemirror_mode": {
    "name": "ipython",
    "version": 3
   },
   "file_extension": ".py",
   "mimetype": "text/x-python",
   "name": "python",
   "nbconvert_exporter": "python",
   "pygments_lexer": "ipython3",
   "version": "3.11.8"
  }
 },
 "nbformat": 4,
 "nbformat_minor": 2
}
