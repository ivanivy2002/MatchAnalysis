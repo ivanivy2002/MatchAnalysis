{
 "cells": [
  {
   "cell_type": "code",
   "execution_count": 1,
   "metadata": {},
   "outputs": [],
   "source": [
    "from utils import read_video, save_video\n",
    "from trackers import Tracker\n",
    "import cv2\n",
    "from team_assigner import TeamAssigner"
   ]
  },
  {
   "cell_type": "code",
   "execution_count": 2,
   "metadata": {},
   "outputs": [],
   "source": [
    "# Read Video\n",
    "video_path = 'input_video/08fd33_4.mp4'\n",
    "output_dir = 'output_video'"
   ]
  },
  {
   "cell_type": "code",
   "execution_count": 3,
   "metadata": {},
   "outputs": [],
   "source": [
    "video_frames = read_video(video_path)"
   ]
  },
  {
   "cell_type": "code",
   "execution_count": 4,
   "metadata": {},
   "outputs": [],
   "source": [
    "# 初始化Tracker\n",
    "# tracker = Tracker('models/best_yolov5_100.pt')\n",
    "tracker = Tracker('models/train3_5xu/best.pt')\n",
    "tracks = tracker.get_object_tracks(video_frames,\n",
    "                                    read_from_stub=True,\n",
    "                                    stub_path='stub/track_stubs.pkl')"
   ]
  },
  {
   "cell_type": "code",
   "execution_count": 5,
   "metadata": {},
   "outputs": [],
   "source": [
    "# 对球插值\n",
    "tracks['ball'] = tracker.interpolate_ball(tracks['ball'])"
   ]
  },
  {
   "cell_type": "code",
   "execution_count": 7,
   "metadata": {},
   "outputs": [],
   "source": [
    "# 保存每个队员的截图, 只保存第一帧的，只一次\n",
    "for id, player in tracks[\"players\"][0].items():\n",
    "    bbox = player[\"bbox\"]\n",
    "    frame = video_frames[0]\n",
    "    cropped = frame[int(bbox[1]) : int(bbox[3]), int(bbox[0]) : int(bbox[2])]\n",
    "    cv2.imwrite(f\"{output_dir}/player_{id}.jpg\", cropped)"
   ]
  },
  {
   "cell_type": "code",
   "execution_count": 8,
   "metadata": {},
   "outputs": [],
   "source": [
    "# 分配队员\n",
    "team_assigner = TeamAssigner()\n",
    "team_assigner.assign_team(video_frames[0], \n",
    "                          tracks['players'][0])\n",
    "for frame_num, player_track in enumerate(tracks['players']):\n",
    "    for player_id, track in player_track.items():\n",
    "        team = team_assigner.get_player_team(video_frames[frame_num], \n",
    "                                             track['bbox'],\n",
    "                                                player_id)\n",
    "        tracks['players'][frame_num][player_id]['team'] = team\n",
    "        tracks['players'][frame_num][player_id]['team_color'] = team_assigner.team_colors[team]\n"
   ]
  },
  {
   "cell_type": "code",
   "execution_count": 9,
   "metadata": {},
   "outputs": [],
   "source": [
    "# 画出输出\n",
    "## 画出对象轨迹\n",
    "output_video_frames = tracker.draw_annotation(video_frames, tracks)"
   ]
  },
  {
   "cell_type": "code",
   "execution_count": 10,
   "metadata": {},
   "outputs": [
    {
     "name": "stderr",
     "output_type": "stream",
     "text": [
      "Saving Video: 100%|██████████| 750/750 [00:10<00:00, 71.88it/s]"
     ]
    },
    {
     "name": "stdout",
     "output_type": "stream",
     "text": [
      "Video saved at output_video/output_video.avi\n"
     ]
    },
    {
     "name": "stderr",
     "output_type": "stream",
     "text": [
      "\n"
     ]
    }
   ],
   "source": [
    "# Save Video\n",
    "save_video(output_video_frames, f'{output_dir}/output_video.avi')"
   ]
  }
 ],
 "metadata": {
  "kernelspec": {
   "display_name": "ml",
   "language": "python",
   "name": "python3"
  },
  "language_info": {
   "codemirror_mode": {
    "name": "ipython",
    "version": 3
   },
   "file_extension": ".py",
   "mimetype": "text/x-python",
   "name": "python",
   "nbconvert_exporter": "python",
   "pygments_lexer": "ipython3",
   "version": "3.11.8"
  }
 },
 "nbformat": 4,
 "nbformat_minor": 2
}
