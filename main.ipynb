{
 "cells": [
  {
   "cell_type": "code",
   "execution_count": 8,
   "metadata": {},
   "outputs": [],
   "source": [
    "from utils import read_video, save_video\n",
    "from trackers import Tracker\n",
    "import cv2"
   ]
  },
  {
   "cell_type": "code",
   "execution_count": 7,
   "metadata": {},
   "outputs": [],
   "source": [
    "# Read Video\n",
    "video_path = 'input_video/08fd33_4.mp4'\n",
    "output_dir = 'output_video'"
   ]
  },
  {
   "cell_type": "code",
   "execution_count": 3,
   "metadata": {},
   "outputs": [],
   "source": [
    "video_frames = read_video(video_path)"
   ]
  },
  {
   "cell_type": "code",
   "execution_count": 5,
   "metadata": {},
   "outputs": [],
   "source": [
    "# 初始化Tracker\n",
    "tracker = Tracker('models/best.pt')\n",
    "tracks = tracker.get_object_tracks(video_frames,\n",
    "                                    read_from_stub=True,\n",
    "                                    stub_path='stub/track_stub.pkl')\n",
    "# 画出输出\n",
    "## 画出对象轨迹\n",
    "output_video_frames = tracker.draw_annotation(video_frames, tracks)"
   ]
  },
  {
   "cell_type": "code",
   "execution_count": 9,
   "metadata": {},
   "outputs": [],
   "source": [
    "# 保存每个队员的截图\n",
    "for id, player in tracks[\"player\"][0].items():\n",
    "    bbox = player[\"bbox\"]\n",
    "    frame = video_frames[0]\n",
    "    cropped = frame[int(bbox[1]) : int(bbox[3]), int(bbox[0]) : int(bbox[2])]\n",
    "    cv2.imwrite(f\"{output_dir}/player_{id}.jpg\", cropped)"
   ]
  },
  {
   "cell_type": "code",
   "execution_count": 6,
   "metadata": {},
   "outputs": [
    {
     "name": "stderr",
     "output_type": "stream",
     "text": [
      "Saving Video: 100%|██████████| 750/750 [00:10<00:00, 71.79it/s]"
     ]
    },
    {
     "name": "stdout",
     "output_type": "stream",
     "text": [
      "Video saved at output_video/output_video.avi\n"
     ]
    },
    {
     "name": "stderr",
     "output_type": "stream",
     "text": [
      "\n"
     ]
    }
   ],
   "source": [
    "# Save Video\n",
    "save_video(output_video_frames, f'{output_dir}/output_video.avi')"
   ]
  }
 ],
 "metadata": {
  "kernelspec": {
   "display_name": "ml",
   "language": "python",
   "name": "python3"
  },
  "language_info": {
   "codemirror_mode": {
    "name": "ipython",
    "version": 3
   },
   "file_extension": ".py",
   "mimetype": "text/x-python",
   "name": "python",
   "nbconvert_exporter": "python",
   "pygments_lexer": "ipython3",
   "version": "3.11.8"
  }
 },
 "nbformat": 4,
 "nbformat_minor": 2
}
